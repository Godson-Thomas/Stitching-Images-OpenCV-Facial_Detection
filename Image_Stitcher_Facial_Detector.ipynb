{
 "cells": [
  {
   "cell_type": "code",
   "execution_count": 3,
   "metadata": {},
   "outputs": [],
   "source": [
    "import cv2\n",
    "import numpy as np"
   ]
  },
  {
   "cell_type": "code",
   "execution_count": 4,
   "metadata": {},
   "outputs": [],
   "source": [
    "pic1 = cv2.imread(\"E:\\\\GITHUB\\\\Stitching\\\\1.jpg\")\n",
    "pic2 = cv2.imread(\"E:\\\\GITHUB\\\\Stitching\\\\2.jpg\")\n",
    "cv2.imshow(\"First Image\",pic1)\n",
    "cv2.imshow(\"Second Image\",pic2)\n",
    "k = cv2.waitKey(0) & 0xff # press ESC to exit\n",
    "if k == 27:\n",
    "    cv2.destroyAllWindows()\n"
   ]
  },
  {
   "cell_type": "code",
   "execution_count": 5,
   "metadata": {},
   "outputs": [],
   "source": [
    "Images=(pic1,pic2)\n",
    "stitching = cv2.Stitcher.create(True)\n",
    "stitched_image = stitching.stitch(Images)\n",
    "cv2.imshow(\"First Image\",pic1)\n",
    "cv2.imshow(\"Second Image\",pic2)\n",
    "cv2.imshow('Output',stitched_image[1]) \n",
    "k = cv2.waitKey(0) & 0xff # press ESC to exit\n",
    "if k == 27:\n",
    "    cv2.destroyAllWindows()"
   ]
  },
  {
   "cell_type": "code",
   "execution_count": 6,
   "metadata": {},
   "outputs": [],
   "source": [
    "face_cascade=cv2.CascadeClassifier(\"E:\\\\GITHUB\\\\Stitching\\\\haarcascade_frontalface_default.xml\")"
   ]
  },
  {
   "cell_type": "code",
   "execution_count": 7,
   "metadata": {},
   "outputs": [
    {
     "name": "stdout",
     "output_type": "stream",
     "text": [
      "0.6045949214026602\n"
     ]
    }
   ],
   "source": [
    "r=500/stitched_image[1].shape[1]                            # RESIZING THE LOADED IMAGE\n",
    "print(r)\n",
    "dim=(500,int(stitched_image[1].shape[0]*r))"
   ]
  },
  {
   "cell_type": "code",
   "execution_count": 8,
   "metadata": {},
   "outputs": [],
   "source": [
    "resized_img=cv2.resize(stitched_image[1],dim,interpolation=cv2.INTER_AREA)  #STORING AND DISPLAYING THE RESIZED IMAGE\n",
    "\n",
    "cv2.imshow(\"RESIZED ONE\",resized_img)\n",
    "cv2.waitKey(0)\n",
    "\n",
    "cv2.destroyAllWindows()"
   ]
  },
  {
   "cell_type": "code",
   "execution_count": 9,
   "metadata": {},
   "outputs": [],
   "source": [
    "gray_img=cv2.cvtColor(resized_img,cv2.COLOR_BGR2GRAY)"
   ]
  },
  {
   "cell_type": "code",
   "execution_count": 10,
   "metadata": {},
   "outputs": [
    {
     "name": "stdout",
     "output_type": "stream",
     "text": [
      "No people detected in the stitched image \n"
     ]
    }
   ],
   "source": [
    "faces=face_cascade.detectMultiScale(gray_img,scaleFactor=1.05 ,minNeighbors=6)\n",
    "val = type(faces) is tuple\n",
    "if val == False:\n",
    "    \n",
    "    for x,y,w,h in faces:\n",
    "        final_img=cv2.rectangle(resized_img,(x,y),(x+w,y+h),(255,0,0),3)\n",
    "        \n",
    "    cv2.imshow(\"DETECTED FRAME\",final_img)\n",
    "    cv2.waitKey(0)\n",
    "    cv2.destroyAllWindows()\n",
    "else:\n",
    "    print(\"No people detected in the stitched image \")"
   ]
  },
  {
   "cell_type": "code",
   "execution_count": null,
   "metadata": {},
   "outputs": [],
   "source": []
  },
  {
   "cell_type": "code",
   "execution_count": null,
   "metadata": {},
   "outputs": [],
   "source": []
  }
 ],
 "metadata": {
  "kernelspec": {
   "display_name": "Python 3",
   "language": "python",
   "name": "python3"
  },
  "language_info": {
   "codemirror_mode": {
    "name": "ipython",
    "version": 3
   },
   "file_extension": ".py",
   "mimetype": "text/x-python",
   "name": "python",
   "nbconvert_exporter": "python",
   "pygments_lexer": "ipython3",
   "version": "3.7.3"
  }
 },
 "nbformat": 4,
 "nbformat_minor": 2
}
